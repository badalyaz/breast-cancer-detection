{
 "cells": [
  {
   "cell_type": "code",
   "execution_count": 1,
   "id": "28ee5ca5",
   "metadata": {},
   "outputs": [],
   "source": [
    "import sys\n",
    "sys.path.append(\"../\")"
   ]
  },
  {
   "cell_type": "markdown",
   "id": "3b1c00de",
   "metadata": {},
   "source": [
    "# Because the heatmap generator is slow, the generated heatmaps are presaved in order to save time."
   ]
  },
  {
   "cell_type": "code",
   "execution_count": 2,
   "id": "358d26a1",
   "metadata": {},
   "outputs": [],
   "source": [
    "import numpy\n",
    "import pandas\n",
    "from threshold_checkings import load_and_process_with_bins"
   ]
  },
  {
   "cell_type": "markdown",
   "id": "edc1a7cc",
   "metadata": {},
   "source": [
    "## Bins and thresholds for achieving the below results"
   ]
  },
  {
   "cell_type": "code",
   "execution_count": 3,
   "id": "e6dbe88e",
   "metadata": {},
   "outputs": [],
   "source": [
    "bins = numpy.array([0, 0.1, 0.3, 0.666, 1])\n",
    "threshold_benign = 0.666\n",
    "threshold_malignant = 0.777"
   ]
  },
  {
   "cell_type": "code",
   "execution_count": 4,
   "id": "d027383a",
   "metadata": {},
   "outputs": [
    {
     "name": "stderr",
     "output_type": "stream",
     "text": [
      "100%|██████████████████████████████████████████████████████████████████████████████████████████████████████████████████████████████████████████████████████████████████| 316/316 [00:00<00:00, 1033.81it/s]\n"
     ]
    }
   ],
   "source": [
    "main_matrix, specificity, sensitivity, mean_accuracy = \\\n",
    "load_and_process_with_bins(threshold_benign, threshold_malignant, bins,\n",
    "                          path=\"../Sample_data/generated_heatmaps\")"
   ]
  },
  {
   "cell_type": "markdown",
   "id": "22c1430e",
   "metadata": {},
   "source": [
    "## Visualizations of results"
   ]
  },
  {
   "cell_type": "code",
   "execution_count": 5,
   "id": "71f8e5e5",
   "metadata": {},
   "outputs": [],
   "source": [
    "main_matrix_df = pandas.DataFrame(data = numpy.concatenate([main_matrix, specificity[..., None], sensitivity[..., None]], axis=1),\\\n",
    "columns = [\"Ok\", \"Benign\", \"Malignant\", \"Specificity\", \"Sensitivity\"])"
   ]
  },
  {
   "cell_type": "code",
   "execution_count": 6,
   "id": "92c66d44",
   "metadata": {},
   "outputs": [],
   "source": [
    "index = pandas.MultiIndex.from_arrays([[\"Ok\", \"Benign\", \"Malignant\"]], names=[\"Predicted\"])"
   ]
  },
  {
   "cell_type": "code",
   "execution_count": 7,
   "id": "1c76f60b",
   "metadata": {},
   "outputs": [],
   "source": [
    "main_matrix_df.columns = pandas.MultiIndex.from_product([[\"True\"], main_matrix_df.columns])"
   ]
  },
  {
   "cell_type": "markdown",
   "id": "11d69f48",
   "metadata": {},
   "source": [
    "# Results tableau"
   ]
  },
  {
   "cell_type": "code",
   "execution_count": 8,
   "id": "9275739c",
   "metadata": {},
   "outputs": [
    {
     "data": {
      "text/html": [
       "<div>\n",
       "<style scoped>\n",
       "    .dataframe tbody tr th:only-of-type {\n",
       "        vertical-align: middle;\n",
       "    }\n",
       "\n",
       "    .dataframe tbody tr th {\n",
       "        vertical-align: top;\n",
       "    }\n",
       "\n",
       "    .dataframe thead tr th {\n",
       "        text-align: left;\n",
       "    }\n",
       "\n",
       "    .dataframe thead tr:last-of-type th {\n",
       "        text-align: right;\n",
       "    }\n",
       "</style>\n",
       "<table border=\"1\" class=\"dataframe\">\n",
       "  <thead>\n",
       "    <tr>\n",
       "      <th></th>\n",
       "      <th colspan=\"5\" halign=\"left\">True</th>\n",
       "    </tr>\n",
       "    <tr>\n",
       "      <th></th>\n",
       "      <th>Ok</th>\n",
       "      <th>Benign</th>\n",
       "      <th>Malignant</th>\n",
       "      <th>Specificity</th>\n",
       "      <th>Sensitivity</th>\n",
       "    </tr>\n",
       "    <tr>\n",
       "      <th>Predicted</th>\n",
       "      <th></th>\n",
       "      <th></th>\n",
       "      <th></th>\n",
       "      <th></th>\n",
       "      <th></th>\n",
       "    </tr>\n",
       "  </thead>\n",
       "  <tbody>\n",
       "    <tr>\n",
       "      <th>Ok</th>\n",
       "      <td>5.0</td>\n",
       "      <td>11.0</td>\n",
       "      <td>7.0</td>\n",
       "      <td>0.853801</td>\n",
       "      <td>0.217391</td>\n",
       "    </tr>\n",
       "    <tr>\n",
       "      <th>Benign</th>\n",
       "      <td>10.0</td>\n",
       "      <td>25.0</td>\n",
       "      <td>55.0</td>\n",
       "      <td>0.617647</td>\n",
       "      <td>0.277778</td>\n",
       "    </tr>\n",
       "    <tr>\n",
       "      <th>Malignant</th>\n",
       "      <td>15.0</td>\n",
       "      <td>67.0</td>\n",
       "      <td>121.0</td>\n",
       "      <td>0.326087</td>\n",
       "      <td>0.596059</td>\n",
       "    </tr>\n",
       "  </tbody>\n",
       "</table>\n",
       "</div>"
      ],
      "text/plain": [
       "           True                                         \n",
       "             Ok Benign Malignant Specificity Sensitivity\n",
       "Predicted                                               \n",
       "Ok          5.0   11.0       7.0    0.853801    0.217391\n",
       "Benign     10.0   25.0      55.0    0.617647    0.277778\n",
       "Malignant  15.0   67.0     121.0    0.326087    0.596059"
      ]
     },
     "execution_count": 8,
     "metadata": {},
     "output_type": "execute_result"
    }
   ],
   "source": [
    "main_matrix_df.set_index(index)"
   ]
  },
  {
   "cell_type": "markdown",
   "id": "ca7264ae",
   "metadata": {},
   "source": [
    "# Mean accuracy"
   ]
  },
  {
   "cell_type": "code",
   "execution_count": 14,
   "id": "7b47fe5b",
   "metadata": {},
   "outputs": [
    {
     "data": {
      "text/plain": [
       "0.4778481012658228"
      ]
     },
     "execution_count": 14,
     "metadata": {},
     "output_type": "execute_result"
    }
   ],
   "source": [
    "mean_accuracy"
   ]
  }
 ],
 "metadata": {
  "kernelspec": {
   "display_name": "Python 3 (ipykernel)",
   "language": "python",
   "name": "python3"
  },
  "language_info": {
   "codemirror_mode": {
    "name": "ipython",
    "version": 3
   },
   "file_extension": ".py",
   "mimetype": "text/x-python",
   "name": "python",
   "nbconvert_exporter": "python",
   "pygments_lexer": "ipython3",
   "version": "3.10.4"
  }
 },
 "nbformat": 4,
 "nbformat_minor": 5
}
