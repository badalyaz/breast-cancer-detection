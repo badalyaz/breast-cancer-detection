{
 "cells": [
  {
   "cell_type": "code",
   "execution_count": 25,
   "id": "630ad794",
   "metadata": {},
   "outputs": [],
   "source": [
    "import sys\n",
    "sys.path.append(\"../\")"
   ]
  },
  {
   "cell_type": "code",
   "execution_count": 26,
   "id": "e7500d13",
   "metadata": {},
   "outputs": [],
   "source": [
    "import numpy\n",
    "import pandas\n",
    "import re\n",
    "import os\n",
    "from density_calculations import calc_density\n",
    "from tqdm import tqdm\n",
    "import matplotlib.pyplot as pyplot\n",
    "import matplotlib.patches as patches\n",
    "from random import choice, sample"
   ]
  },
  {
   "cell_type": "markdown",
   "id": "1beb7d80",
   "metadata": {},
   "source": [
    "# These are functions to calculate density with given bins and calculate sensitivity and specificity"
   ]
  },
  {
   "cell_type": "markdown",
   "id": "583baed6",
   "metadata": {},
   "source": [
    "### Calculate density for given bins"
   ]
  },
  {
   "cell_type": "code",
   "execution_count": 27,
   "id": "34478df0",
   "metadata": {},
   "outputs": [],
   "source": [
    "def calc_density_with_bins(heatmap_benign,\n",
    "                            heatmap_malignant,\n",
    "                            bbox,\n",
    "                            bins\n",
    "                        ):\n",
    "    \n",
    "    \n",
    "    h, w = heatmap_benign.shape\n",
    "\n",
    "    #this is used for rescaling the coordinates of boxes\n",
    "    scale_factor = numpy.array([w, h, w, h], dtype=float)\n",
    "    \n",
    "    \n",
    "    \n",
    "    x_min, y_min, x_max, y_max = (bbox * scale_factor).astype(int)\n",
    "    \n",
    "    #returns counts of elements in each bin\n",
    "    counts_ben = numpy.unique(numpy.digitize(heatmap_benign[y_min:y_max, x_min:x_max], bins=bins), return_index=True, return_counts=True)[-1]\n",
    "    counts_mal = numpy.unique(numpy.digitize(heatmap_malignant[y_min:y_max, x_min:x_max], bins=bins), return_index=True, return_counts=True)[-1]\n",
    "\n",
    "    #dividing the highest count by the sum (total)                         \n",
    "    density_ben = counts_ben.max() / counts_ben.sum()\n",
    "    density_mal = counts_mal.max() / counts_mal.sum()\n",
    "    \n",
    "\n",
    "    return density_ben, density_mal"
   ]
  },
  {
   "cell_type": "code",
   "execution_count": 28,
   "id": "86092671",
   "metadata": {},
   "outputs": [],
   "source": [
    "def calc_density_with_mean(heatmap_benign,\n",
    "                            heatmap_malignant,\n",
    "                            bbox,\n",
    "                            bins\n",
    "                        ):\n",
    "    \n",
    "    \n",
    "    h, w = heatmap_benign.shape\n",
    "\n",
    "    #this is used for rescaling the coordinates of boxes\n",
    "    scale_factor = numpy.array([w, h, w, h], dtype=float)\n",
    "    \n",
    "    \n",
    "    x_min, y_min, x_max, y_max = (bbox * scale_factor).astype(int)    \n",
    "    \n",
    "    \n",
    "    dens_ben = heatmap_benign[y_min:y_max, x_min:x_max].mean()\n",
    "    dens_mal = heatmap_malignant[y_min:y_max, x_min:x_max].mean()\n",
    "\n",
    "\n",
    "    return density_ben, density_mal\n"
   ]
  },
  {
   "cell_type": "markdown",
   "id": "887ba481",
   "metadata": {},
   "source": [
    "### Load saved heatmaps and calculate density, use single thresholds"
   ]
  },
  {
   "cell_type": "code",
   "execution_count": 29,
   "id": "978b4f03",
   "metadata": {},
   "outputs": [],
   "source": [
    "def load_and_process_with_bins(threshold_benign,\n",
    "                               threshold_malignant,\n",
    "                               bins):\n",
    "  \n",
    "    if not isinstance(threshold_benign, numpy.ndarray):\n",
    "        raise TypeError(f\"expected threshold_benign to be numpy.ndarra, got {type(threshold_benign)}\")\n",
    "\n",
    "    if not (threshold_benign.ndim == 1):\n",
    "        raise ValueError(f\"expected threshold_benign to have shape [N], but got {threshold_benign.shape}\")\n",
    "\n",
    "    if not numpy.all((0 < threshold_benign) & (threshold_benign < 1)):\n",
    "        raise ValueError(f\"expected threshold_benign values to be in range 0 to 1, but got {threshold_benign}\")\n",
    "\n",
    "\n",
    "    if not isinstance(threshold_malignant, numpy.ndarray):\n",
    "        raise TypeError(f\"expected threshold_malignant to be numpy.ndarra, got {type(threshold_malignant)}\")\n",
    "\n",
    "    if not (threshold_malignant.ndim == 1):\n",
    "        raise ValueError(f\"expected threshold_malignant to have shape [N], but got {threshold_malignant.shape}\")\n",
    "\n",
    "    if not numpy.all((0 < threshold_malignant) & (threshold_malignant < 1)):\n",
    "        raise ValueError(f\"expected threshold_malignant values to be in range 0 to 1, but got {threshold_malignant}\")\n",
    "\n",
    "\n",
    "    if not isinstance(bins, numpy.ndarray):\n",
    "        raise TypeError(f\"expected bins to be type of numpy.ndarray, but got {type(bins)}\")\n",
    "\n",
    "    if not (bins.ndim == 1):\n",
    "        raise ValueError(f\"expected bins to have shape [N], but got {bins.shape}\")\n",
    "\n",
    "    if not numpy.all((bins >=0) & (bins <=1)):\n",
    "        raise ValueError(f\"expected bins elemets to be in [0, 1]\")\n",
    "\n",
    "    if not numpy.all(bins[1:] > bins[:-1]):\n",
    "        raise ValueError(f\"expected bins to be strictly monotonic sequence\")\n",
    "\n",
    "    path = \"/home/server/other_projects/breast_cancer/DATA_PATH/temp_files\"\n",
    "\n",
    "    files = os.listdir(path)\n",
    "    files.sort(key = lambda x: int(re.match(r\"image(\\d+).+\\.npy\", x)[1]))\n",
    "\n",
    "    N = len(files) // 3\n",
    "\n",
    "    main_matrix = numpy.zeros((3, 3))\n",
    "\n",
    "    for idx in tqdm(range(N)):\n",
    "        \n",
    "        temp = files[3* idx:3*idx + 3]\n",
    "        temp.sort(key = lambda x: 0 if \"bbox\" in x else 1 if \"ben\" in x else 2)\n",
    "        \n",
    "        with open(os.path.join(path, temp[0]), 'rb') as f:\n",
    "\n",
    "            bbox = numpy.load(f)\n",
    "\n",
    "        with open(os.path.join(path, temp[1]), 'rb') as f:\n",
    "\n",
    "            heatmap_benign = numpy.load(f)\n",
    "\n",
    "        with open(os.path.join(path, temp[2]), 'rb') as f:\n",
    "            \n",
    "            heatmap_malignant = numpy.load(f)\n",
    "\n",
    "        #the re.match used to get the annotations from the file names\n",
    "        annot = re.match(\".+_(.+).npy\", temp[1])[1]\n",
    "        \n",
    "        dens_ben, dens_mal = calc_density_with_bins(heatmap_benign, heatmap_malignant, bins)\n",
    "        \n",
    "        \n",
    "        if annot in [\"2\", \"3\"]:\n",
    "            true_label = 1\n",
    "        elif annot in [\"4a\", \"4b\", \"4c\", \"4\", \"5\", \"6\"]:\n",
    "            true_label = 2\n",
    "        else:\n",
    "            true_label = 0\n",
    "\n",
    "        is_benign = dens_ben > threshold_benign\n",
    "        is_malignant = dens_mal > threshold_malignant\n",
    "        \n",
    "\n",
    "        ##DANGER\n",
    "        if is_benign and is_malignant:\n",
    "            if dens_ben > dens_mal:\n",
    "                pred_label = 1\n",
    "            else:\n",
    "                pred_label = 2\n",
    "        elif is_benign:\n",
    "            pred_label = 1\n",
    "        elif is_malignant:\n",
    "            pred_label = 2\n",
    "        else:\n",
    "            pred_label = 0\n",
    "        ##\n",
    "        \n",
    "        main_matrix[true_label, pred_label] += 1\n",
    "        \n",
    "    specificity = numpy.zeros(3)    \n",
    "    sensitivity = numpy.zeros(3)\n",
    "    \n",
    "    ##specificity\n",
    "    \n",
    "    specificity[0] = (main_matrix[1, 1] + main_matrix[2, 2])/\\\n",
    "    (main_matrix[1, 0] + main_matrix[2, 0] + main_matrix[1, 1] + main_matrix[2, 2])\n",
    "    \n",
    "    specificity[1] = (main_matrix[0, 0] + main_matrix[2, 2])/\\\n",
    "    (main_matrix[0, 1] + main_matrix[2, 1] + main_matrix[0, 0] + main_matrix[2, 2])\n",
    "    \n",
    "    specificity[2] = (main_matrix[0, 0] + main_matrix[1, 1])/\\\n",
    "    (main_matrix[0, 2] + main_matrix[1, 2] + main_matrix[0, 0] + main_matrix[1, 1])\n",
    "    \n",
    "    \n",
    "    ##sensitivity\n",
    "    \n",
    "    sensitivity[0] = main_matrix[0, 0]/(main_matrix[0].sum())\n",
    "    sensitivity[1] = main_matrix[1, 1]/(main_matrix[1].sum())\n",
    "    sensitivity[2] = main_matrix[2, 2]/(main_matrix[2].sum())\n",
    "    \n",
    "    \n",
    "    #mean accuracy\n",
    "    \n",
    "    corrects = main_matrix[0, 0] + main_matrix[1, 1] + main_matrix[2, 2]\n",
    "    mean_accuracy = corrects / main_matrix.sum()\n",
    "    \n",
    "    return main_matrix, specificity, sensitivity, mean_accuracy\n",
    "    \n"
   ]
  },
  {
   "cell_type": "markdown",
   "id": "50046653",
   "metadata": {},
   "source": [
    "### Load saved heatmaps and calculate density, use multiple thresholds"
   ]
  },
  {
   "cell_type": "code",
   "execution_count": 42,
   "id": "621cd5ca",
   "metadata": {},
   "outputs": [],
   "source": [
    "def load_and_process_with_bins_multiple(threshold_benign,\n",
    "                                        threshold_malignant,\n",
    "                                        bins):\n",
    "  \n",
    "    if not isinstance(threshold_benign, numpy.ndarray):\n",
    "        raise TypeError(f\"expected threshold_benign to be numpy.ndarra, got {type(threshold_benign)}\")\n",
    "\n",
    "    if not (threshold_benign.ndim == 1):\n",
    "        raise ValueError(f\"expected threshold_benign to have shape [N], but got {threshold_benign.shape}\")\n",
    "\n",
    "    if not numpy.all((0 < threshold_benign) & (threshold_benign < 1)):\n",
    "        raise ValueError(f\"expected threshold_benign values to be in range 0 to 1, but got {threshold_benign}\")\n",
    "\n",
    "\n",
    "    if not isinstance(threshold_malignant, numpy.ndarray):\n",
    "        raise TypeError(f\"expected threshold_malignant to be numpy.ndarra, got {type(threshold_malignant)}\")\n",
    "\n",
    "    if not (threshold_malignant.ndim == 1):\n",
    "        raise ValueError(f\"expected threshold_malignant to have shape [N], but got {threshold_malignant.shape}\")\n",
    "\n",
    "    if not numpy.all((0 < threshold_malignant) & (threshold_malignant < 1)):\n",
    "        raise ValueError(f\"expected threshold_malignant values to be in range 0 to 1, but got {threshold_malignant}\")\n",
    "\n",
    "\n",
    "    if not isinstance(bins, numpy.ndarray):\n",
    "        raise TypeError(f\"expected bins to be type of numpy.ndarray, but got {type(bins)}\")\n",
    "\n",
    "    if not (bins.ndim == 1):\n",
    "        raise ValueError(f\"expected bins to have shape [N], but got {bins.shape}\")\n",
    "\n",
    "    if not numpy.all((bins >=0) & (bins <=1)):\n",
    "        raise ValueError(f\"expected bins elemets to be in [0, 1]\")\n",
    "\n",
    "    if not numpy.all(bins[1:] > bins[:-1]):\n",
    "        raise ValueError(f\"expected bins to be strictly monotonic sequence\")\n",
    "\n",
    "    path = \"../Sample_data/generated_heatmaps\"\n",
    "\n",
    "    files = os.listdir(path)\n",
    "    files.sort(key = lambda x: int(re.match(r\"image(\\d+).+\\.npy\", x)[1]))\n",
    "\n",
    "    N = len(files) // 3\n",
    "    \n",
    "    M = threshold_benign.shape[0] * threshold_malignant.shape[0]\n",
    "    main_matrix = numpy.zeros((M, 3, 3))\n",
    "\n",
    "    for idx in tqdm(range(N)):\n",
    "        \n",
    "        temp = files[3* idx:3*idx + 3]\n",
    "        temp.sort(key = lambda x: 0 if \"bbox\" in x else 1 if \"ben\" in x else 2)\n",
    "        \n",
    "        with open(os.path.join(path, temp[0]), 'rb') as f:\n",
    "\n",
    "            bbox = numpy.load(f)\n",
    "\n",
    "        with open(os.path.join(path, temp[1]), 'rb') as f:\n",
    "\n",
    "            heatmap_benign = numpy.load(f)\n",
    "\n",
    "        with open(os.path.join(path, temp[2]), 'rb') as f:\n",
    "            \n",
    "            heatmap_malignant = numpy.load(f)\n",
    "\n",
    "        #the re.match used to get the annotations from the file names\n",
    "        annot = re.match(\".+_(.+).npy\", temp[1])[1]\n",
    "        \n",
    "        dens_ben, dens_mal = calc_density_with_bins(heatmap_benign, heatmap_malignant, bins)\n",
    "        \n",
    "        \n",
    "        if annot in [\"2\", \"3\"]:\n",
    "            true_label = 1\n",
    "        elif annot in [\"4a\", \"4b\", \"4c\", \"4\", \"5\", \"6\"]:\n",
    "            true_label = 2\n",
    "        else:\n",
    "            true_label = 0\n",
    "\n",
    "        is_benign = dens_ben > threshold_benign\n",
    "        is_malignant = dens_mal > threshold_malignant\n",
    "        \n",
    "        count = 0\n",
    "        \n",
    "        for ben in is_benign:\n",
    "            for mal in is_malignant:\n",
    "\n",
    "                ##DANGER\n",
    "                if ben and mal:\n",
    "                    if dens_ben > dens_mal:\n",
    "                        pred_label = 1\n",
    "                    else:\n",
    "                        pred_label = 2\n",
    "                elif ben:\n",
    "                    pred_label = 1\n",
    "                elif mal:\n",
    "                    pred_label = 2\n",
    "                else:\n",
    "                    pred_label = 0\n",
    "                ##\n",
    "\n",
    "                main_matrix[count, true_label, pred_label] += 1\n",
    "                count += 1\n",
    "\n",
    "    specificity = numpy.zeros((M, 3))    \n",
    "    sensitivity = numpy.zeros((M, 3))\n",
    "    \n",
    "    \n",
    "    ##specificity\n",
    "    \n",
    "    specificity[:, 0] = (main_matrix[:, 1, 1] + main_matrix[:, 2, 2])/\\\n",
    "    (main_matrix[:, 1, 0] + main_matrix[:, 2, 0] + main_matrix[:, 1, 1] + main_matrix[:, 2, 2])\n",
    "    \n",
    "    specificity[:, 1] = (main_matrix[:, 0, 0] + main_matrix[:, 2, 2])/\\\n",
    "    (main_matrix[:, 0, 1] + main_matrix[:, 2, 1] + main_matrix[:, 0, 0] + main_matrix[:, 2, 2])\n",
    "    \n",
    "    specificity[:, 2] = (main_matrix[:, 0, 0] + main_matrix[:, 1, 1])/\\\n",
    "    (main_matrix[:, 0, 2] + main_matrix[:, 1, 2] + main_matrix[:, 0, 0] + main_matrix[:, 1, 1])\n",
    "    \n",
    "    \n",
    "    ##sensitivity\n",
    "    \n",
    "    sensitivity[:, 0] = main_matrix[:, 0, 0]/(main_matrix[:, 0].sum(axis=-1))\n",
    "    sensitivity[:, 1] = main_matrix[:, 1, 1]/(main_matrix[: ,1].sum(axis=-1))\n",
    "    sensitivity[:, 2] = main_matrix[:, 2, 2]/(main_matrix[:, 2].sum(axis=-1))\n",
    "    \n",
    "    \n",
    "    #mean accuracy\n",
    "    \n",
    "    corrects = main_matrix[:, 0, 0] + main_matrix[:, 1, 1] + main_matrix[:, 2, 2]\n",
    "    mean_accuracy = corrects / main_matrix.sum(axis=(-1, -2))\n",
    "    \n",
    "    return main_matrix, specificity, sensitivity, mean_accuracy"
   ]
  },
  {
   "cell_type": "markdown",
   "id": "e6685d1c",
   "metadata": {},
   "source": [
    "### Load saved heatmaps and calculate density, use multiple thresholds, only for [not benign, benign] cases"
   ]
  },
  {
   "cell_type": "code",
   "execution_count": 43,
   "id": "9c8ea074",
   "metadata": {},
   "outputs": [],
   "source": [
    "def load_and_process_with_bins_multiple_only_benign(threshold_benign,\n",
    "                                        bins):\n",
    "  \n",
    "    if not isinstance(threshold_benign, numpy.ndarray):\n",
    "        raise TypeError(f\"expected threshold_benign to be numpy.ndarra, got {type(threshold_benign)}\")\n",
    "\n",
    "    if not (threshold_benign.ndim == 1):\n",
    "        raise ValueError(f\"expected threshold_benign to have shape [N], but got {threshold_benign.shape}\")\n",
    "\n",
    "    if not numpy.all((0 < threshold_benign) & (threshold_benign < 1)):\n",
    "        raise ValueError(f\"expected threshold_benign values to be in range 0 to 1, but got {threshold_benign}\")\n",
    "\n",
    "\n",
    "    if not isinstance(bins, numpy.ndarray):\n",
    "        raise TypeError(f\"expected bins to be type of numpy.ndarray, but got {type(bins)}\")\n",
    "\n",
    "    if not (bins.ndim == 1):\n",
    "        raise ValueError(f\"expected bins to have shape [N], but got {bins.shape}\")\n",
    "\n",
    "    if not numpy.all((bins >=0) & (bins <=1)):\n",
    "        raise ValueError(f\"expected bins elemets to be in [0, 1]\")\n",
    "\n",
    "    if not numpy.all(bins[1:] > bins[:-1]):\n",
    "        raise ValueError(f\"expected bins to be strictly monotonic sequence\")\n",
    "\n",
    "    path = \"../Sample_data/generated_heatmaps\"\n",
    "\n",
    "    files = os.listdir(path)\n",
    "    files.sort(key = lambda x: int(re.match(r\"image(\\d+).+\\.npy\", x)[1]))\n",
    "\n",
    "    N = len(files) // 3\n",
    "    M = threshold_benign.shape[0]\n",
    "    main_matrix = numpy.zeros((M, 2, 2))\n",
    "    \n",
    "    \n",
    "    for idx in tqdm(range(N)):\n",
    "        \n",
    "        temp = files[3* idx:3*idx + 3]\n",
    "        temp.sort(key = lambda x: 0 if \"bbox\" in x else 1 if \"ben\" in x else 2)\n",
    "        \n",
    "        with open(os.path.join(path, temp[0]), 'rb') as f:\n",
    "\n",
    "            bbox = numpy.load(f)\n",
    "\n",
    "        with open(os.path.join(path, temp[1]), 'rb') as f:\n",
    "\n",
    "            heatmap_benign = numpy.load(f)\n",
    "\n",
    "        with open(os.path.join(path, temp[2]), 'rb') as f:\n",
    "            \n",
    "            heatmap_malignant = numpy.load(f)\n",
    "\n",
    "        #the re.match used to get the annotations from the file names\n",
    "        annot = re.match(\".+_(.+).npy\", temp[1])[1]\n",
    "        \n",
    "        \n",
    "        dens_ben, dens_mal = calc_density_with_bins(heatmap_benign, heatmap_malignant, bbox, bins)\n",
    "        \n",
    "        \n",
    "        if annot in [\"2\", \"3\"]:\n",
    "            true_label = 1\n",
    "        else:\n",
    "            true_label = 0\n",
    "            \n",
    "\n",
    "        is_benign = dens_ben > threshold_benign\n",
    "            \n",
    "        main_matrix[ is_benign, true_label, 1] += 1        \n",
    "        main_matrix[~is_benign, true_label, 0] += 1\n",
    "\n",
    "    specificity = numpy.zeros((M, 2))    \n",
    "    sensitivity = numpy.zeros((M, 2))\n",
    "    \n",
    "    \n",
    "    ##specificity\n",
    "    \n",
    "    specificity[:, 0] = (main_matrix[:, 1, 1])/\\\n",
    "    (main_matrix[:, 1, 0] + main_matrix[:, 1, 1])\n",
    "    \n",
    "    specificity[:, 1] = (main_matrix[:, 0, 0])/\\\n",
    "    (main_matrix[:, 0, 1] + main_matrix[:, 0, 0])\n",
    "\n",
    "    \n",
    "    ##sensitivity\n",
    "    \n",
    "    sensitivity[:, 0] = main_matrix[:, 0, 0]/(main_matrix[:, 0].sum(axis=-1))\n",
    "    sensitivity[:, 1] = main_matrix[:, 1, 1]/(main_matrix[: ,1].sum(axis=-1))\n",
    "    \n",
    "    #mean accuracy\n",
    "    \n",
    "    corrects = main_matrix[:, 0, 0] + main_matrix[:, 1, 1]\n",
    "    mean_accuracy = corrects / main_matrix.sum(axis=(-1, -2))\n",
    "    \n",
    "    return main_matrix, specificity, sensitivity, mean_accuracy"
   ]
  },
  {
   "cell_type": "markdown",
   "id": "e4f09a2d",
   "metadata": {},
   "source": [
    "### Load saved heatmaps and calculate density, use multiple thresholds, only for [not benign, benign]. Bins are generated inside the function."
   ]
  },
  {
   "cell_type": "code",
   "execution_count": 60,
   "id": "06a3ba42",
   "metadata": {},
   "outputs": [],
   "source": [
    "def load_and_process_with_bins_multiple_only_benign_gen_bins(threshold_benign):\n",
    "  \n",
    "    if not isinstance(threshold_benign, numpy.ndarray):\n",
    "        raise TypeError(f\"expected threshold_benign to be numpy.ndarra, got {type(threshold_benign)}\")\n",
    "\n",
    "    if not (threshold_benign.ndim == 1):\n",
    "        raise ValueError(f\"expected threshold_benign to have shape [N], but got {threshold_benign.shape}\")\n",
    "\n",
    "    if not numpy.all((0 < threshold_benign) & (threshold_benign < 1)):\n",
    "        raise ValueError(f\"expected threshold_benign values to be in range 0 to 1, but got {threshold_benign}\")\n",
    "\n",
    "    \n",
    "    path = \"../Sample_data/generated_heatmaps\"\n",
    "\n",
    "    files = os.listdir(path)\n",
    "    files.sort(key = lambda x: int(re.match(r\"image(\\d+).+\\.npy\", x)[1]))\n",
    "\n",
    "\n",
    "    #How many bin combinations\n",
    "    bins_count = 100\n",
    "    #How many bins\n",
    "    len_choices = [5, 6, 7, 8]\n",
    "    \n",
    "    \n",
    "    all_bins = []\n",
    "    #Generating random bins\n",
    "    for it in range(bins_count):\n",
    "        \n",
    "        N = choice(len_choices)\n",
    "        all_bins.append(generate_bins(N))\n",
    "        \n",
    "    \n",
    "    N = len(files) // 3\n",
    "    M = threshold_benign.shape[0]\n",
    "    main_matrix = numpy.zeros((bins_count, M, 3, 3))\n",
    "    \n",
    "    \n",
    "    for idx in tqdm(range(N)):\n",
    "        \n",
    "        temp = files[3* idx:3*idx + 3]\n",
    "        temp.sort(key = lambda x: 0 if \"bbox\" in x else 1 if \"ben\" in x else 2)\n",
    "        \n",
    "        with open(os.path.join(path, temp[0]), 'rb') as f:\n",
    "\n",
    "            bbox = numpy.load(f)\n",
    "\n",
    "        with open(os.path.join(path, temp[1]), 'rb') as f:\n",
    "\n",
    "            heatmap_benign = numpy.load(f)\n",
    "\n",
    "\n",
    "        #the re.match used to get the annotations from the file names\n",
    "        annot = re.match(\".+_(.+).npy\", temp[1])[1]\n",
    "        \n",
    "        for bin_index, bins in enumerate(all_bins):\n",
    "\n",
    "            dens_ben, dens_mal = calc_density_with_bins(heatmap_benign, heatmap_benign, bbox, bins)\n",
    "\n",
    "\n",
    "            if annot in [\"2\", \"3\"]:\n",
    "                true_label = 1\n",
    "            elif annot in [\"4\", \"4a\", \"4b\", \"4c\", \"5\", \"6\"]:\n",
    "                true_label = 2\n",
    "            else:\n",
    "                true_label = 0\n",
    "\n",
    "\n",
    "            is_benign = dens_ben > threshold_benign\n",
    "\n",
    "            main_matrix[bin_index,  is_benign, true_label, 1] += 1        \n",
    "            main_matrix[bin_index, ~is_benign, true_label, 0] += 1\n",
    "\n",
    "    specificity = numpy.zeros((bins_count, M, 2))    \n",
    "    sensitivity = numpy.zeros((bins_count, M, 2))\n",
    "    \n",
    "    \n",
    "    ##specificity\n",
    "    \n",
    "    specificity[:, :, 0] = (main_matrix[:, :, 1, 1])/\\\n",
    "    (main_matrix[:, :, 1, 0] + main_matrix[:, :, 1, 1])\n",
    "    \n",
    "    specificity[:, :, 1] = (main_matrix[:, :, 0, 0])/\\\n",
    "    (main_matrix[:, :, 0, 1] + main_matrix[:, :, 0, 0])\n",
    "\n",
    "    \n",
    "    ##sensitivity\n",
    "    \n",
    "    sensitivity[:, :, 0] = main_matrix[:, :, 0, 0]/(main_matrix[:, :, 0].sum(axis=-1))\n",
    "    sensitivity[:, :, 1] = main_matrix[:, :, 1, 1]/(main_matrix[:, : ,1].sum(axis=-1))\n",
    "    \n",
    "    #mean accuracy\n",
    "    \n",
    "    corrects = main_matrix[:, :, 0, 0] + main_matrix[:, :, 1, 1]\n",
    "    mean_accuracy = corrects / main_matrix[..., :2, :2].sum(axis=(-1, -2))\n",
    "    \n",
    "    return main_matrix, specificity, sensitivity, mean_accuracy, all_bins"
   ]
  },
  {
   "cell_type": "markdown",
   "id": "0585399c",
   "metadata": {},
   "source": [
    "### Generate random bins"
   ]
  },
  {
   "cell_type": "code",
   "execution_count": 61,
   "id": "29bf164b",
   "metadata": {},
   "outputs": [],
   "source": [
    "def generate_bins(N):\n",
    "\n",
    "    temp = numpy.linspace(0, 1, 50)\n",
    "    all_inidices = [i for i in range(1, temp.shape[0]-1)]\n",
    "    \n",
    "    inidices = sorted(sample(all_inidices, N - 2))\n",
    "    \n",
    "    result = temp[inidices] \n",
    "    \n",
    "    return numpy.concatenate([numpy.array([0]), result, numpy.array([1])])"
   ]
  },
  {
   "cell_type": "markdown",
   "id": "a2609224",
   "metadata": {},
   "source": [
    "# Gridsearch over the threshold values, bins are generated inside the function"
   ]
  },
  {
   "cell_type": "code",
   "execution_count": 62,
   "id": "cb18bde8",
   "metadata": {},
   "outputs": [
    {
     "name": "stderr",
     "output_type": "stream",
     "text": [
      "100%|████████████████████████████████████████████████████████████████████████████████████████████████████████████████████████████████████████████████████████████████████| 316/316 [00:03<00:00, 79.13it/s]\n"
     ]
    }
   ],
   "source": [
    "t_b = numpy.linspace(0.1, 0.99999, 1000)\n",
    "\n",
    "main_matrix, specificity, sensitivity, mean_accuracy, all_bins = \\\n",
    "load_and_process_with_bins_multiple_only_benign_gen_bins(t_b)"
   ]
  },
  {
   "cell_type": "markdown",
   "id": "9beb95cf",
   "metadata": {},
   "source": [
    "# Best mean accuracy value"
   ]
  },
  {
   "cell_type": "code",
   "execution_count": 69,
   "id": "07f065aa",
   "metadata": {},
   "outputs": [
    {
     "data": {
      "text/plain": [
       "0.8120300751879699"
      ]
     },
     "execution_count": 69,
     "metadata": {},
     "output_type": "execute_result"
    }
   ],
   "source": [
    "best_index = numpy.argmax(mean_accuracy)\n",
    "best_index = numpy.unravel_index(best_index, mean_accuracy.shape)\n",
    "mean_accuracy[best_index[0], best_index[1]]"
   ]
  },
  {
   "cell_type": "markdown",
   "id": "362a9b68",
   "metadata": {},
   "source": [
    "# Sensitivity accortind the best index"
   ]
  },
  {
   "cell_type": "code",
   "execution_count": 73,
   "id": "a2ac1c12",
   "metadata": {},
   "outputs": [
    {
     "data": {
      "text/plain": [
       "array([0.16666667, 1.        ])"
      ]
     },
     "execution_count": 73,
     "metadata": {},
     "output_type": "execute_result"
    }
   ],
   "source": [
    "sensitivity[best_index[0], best_index[1]]"
   ]
  },
  {
   "cell_type": "markdown",
   "id": "80b83aaa",
   "metadata": {},
   "source": [
    "# Specificity accortind the best index"
   ]
  },
  {
   "cell_type": "code",
   "execution_count": 74,
   "id": "e0be3544",
   "metadata": {},
   "outputs": [
    {
     "data": {
      "text/plain": [
       "array([1.        , 0.16666667])"
      ]
     },
     "execution_count": 74,
     "metadata": {},
     "output_type": "execute_result"
    }
   ],
   "source": [
    "specificity[best_index[0], best_index[1]]"
   ]
  },
  {
   "cell_type": "markdown",
   "id": "851dd134",
   "metadata": {},
   "source": [
    "# Bins according the best index"
   ]
  },
  {
   "cell_type": "code",
   "execution_count": 76,
   "id": "37a6be1b",
   "metadata": {},
   "outputs": [
    {
     "data": {
      "text/plain": [
       "array([0.        , 0.08163265, 0.16326531, 0.26530612, 0.48979592,\n",
       "       0.59183673, 0.75510204, 1.        ])"
      ]
     },
     "execution_count": 76,
     "metadata": {},
     "output_type": "execute_result"
    }
   ],
   "source": [
    "all_bins[best_index[0]]"
   ]
  },
  {
   "cell_type": "markdown",
   "id": "837df1c4",
   "metadata": {},
   "source": [
    "# Bins according the best index"
   ]
  },
  {
   "cell_type": "code",
   "execution_count": 78,
   "id": "9f039fd5",
   "metadata": {},
   "outputs": [
    {
     "data": {
      "text/plain": [
       "0.40450112112112113"
      ]
     },
     "execution_count": 78,
     "metadata": {},
     "output_type": "execute_result"
    }
   ],
   "source": [
    "t_b[best_index[1]]"
   ]
  },
  {
   "cell_type": "markdown",
   "id": "ab87c510",
   "metadata": {},
   "source": [
    "# Checking highest benign recall case"
   ]
  },
  {
   "cell_type": "code",
   "execution_count": 83,
   "id": "8efb14e8",
   "metadata": {},
   "outputs": [],
   "source": [
    "indices = numpy.where((sensitivity[..., 1] > 0.60) & (sensitivity[..., 0] > 0.53))"
   ]
  },
  {
   "cell_type": "code",
   "execution_count": 84,
   "id": "c29f7295",
   "metadata": {},
   "outputs": [
    {
     "data": {
      "text/plain": [
       "array([[16., 14.,  0.],\n",
       "       [41., 62.,  0.],\n",
       "       [96., 87.,  0.]])"
      ]
     },
     "execution_count": 84,
     "metadata": {},
     "output_type": "execute_result"
    }
   ],
   "source": [
    "main_matrix[indices[0][-1], indices[1][-1]]"
   ]
  },
  {
   "cell_type": "code",
   "execution_count": 85,
   "id": "d9778b38",
   "metadata": {},
   "outputs": [
    {
     "data": {
      "text/plain": [
       "0.5864661654135338"
      ]
     },
     "execution_count": 85,
     "metadata": {},
     "output_type": "execute_result"
    }
   ],
   "source": [
    "mean_accuracy[indices[0][-1], indices[1][-1]]"
   ]
  },
  {
   "cell_type": "code",
   "execution_count": 86,
   "id": "913cda6d",
   "metadata": {},
   "outputs": [
    {
     "data": {
      "text/plain": [
       "array([0.53333333, 0.60194175])"
      ]
     },
     "execution_count": 86,
     "metadata": {},
     "output_type": "execute_result"
    }
   ],
   "source": [
    "sensitivity[indices[0][-1], indices[1][-1]]"
   ]
  },
  {
   "cell_type": "code",
   "execution_count": 87,
   "id": "fb1adf2d",
   "metadata": {},
   "outputs": [
    {
     "data": {
      "text/plain": [
       "array([0.        , 0.06122449, 0.18367347, 0.20408163, 0.36734694,\n",
       "       0.51020408, 0.87755102, 1.        ])"
      ]
     },
     "execution_count": 87,
     "metadata": {},
     "output_type": "execute_result"
    }
   ],
   "source": [
    "all_bins[indices[0][-1]]"
   ]
  },
  {
   "cell_type": "code",
   "execution_count": 88,
   "id": "7cb28578",
   "metadata": {},
   "outputs": [
    {
     "data": {
      "text/plain": [
       "0.7738663863863865"
      ]
     },
     "execution_count": 88,
     "metadata": {},
     "output_type": "execute_result"
    }
   ],
   "source": [
    "t_b[indices[1][-1]]"
   ]
  }
 ],
 "metadata": {
  "kernelspec": {
   "display_name": "Python 3 (ipykernel)",
   "language": "python",
   "name": "python3"
  },
  "language_info": {
   "codemirror_mode": {
    "name": "ipython",
    "version": 3
   },
   "file_extension": ".py",
   "mimetype": "text/x-python",
   "name": "python",
   "nbconvert_exporter": "python",
   "pygments_lexer": "ipython3",
   "version": "3.10.4"
  },
  "vscode": {
   "interpreter": {
    "hash": "916dbcbb3f70747c44a77c7bcd40155683ae19c65e1c03b4aa3499c5328201f1"
   }
  }
 },
 "nbformat": 4,
 "nbformat_minor": 5
}
