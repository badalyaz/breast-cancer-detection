{
 "cells": [
  {
   "cell_type": "code",
   "execution_count": 2,
   "id": "5cab3145",
   "metadata": {},
   "outputs": [],
   "source": [
    "import sys\n",
    "sys.path.append(\"../\")"
   ]
  },
  {
   "cell_type": "code",
   "execution_count": 3,
   "id": "580b4d60",
   "metadata": {},
   "outputs": [],
   "source": [
    "import numpy\n",
    "import pandas\n",
    "import re\n",
    "import os\n",
    "from density_calculations import calc_density\n",
    "from tqdm import tqdm\n",
    "import matplotlib.pyplot as pyplot\n",
    "import matplotlib.patches as patches\n",
    "from random import choice, sample"
   ]
  },
  {
   "cell_type": "code",
   "execution_count": 4,
   "id": "04f39cdf",
   "metadata": {},
   "outputs": [],
   "source": [
    "def generate_bins(N):\n",
    "\n",
    "    temp = numpy.linspace(0, 1, 15)\n",
    "    all_inidices = [i for i in range(1, temp.shape[0] - 1)]\n",
    "    \n",
    "    inidices = sorted(sample(all_inidices, N - 2))\n",
    "    \n",
    "    result = temp[inidices] \n",
    "    \n",
    "    return numpy.concatenate([numpy.array([0]), result, numpy.array([1])])"
   ]
  },
  {
   "cell_type": "code",
   "execution_count": 5,
   "id": "13436ae2",
   "metadata": {},
   "outputs": [],
   "source": [
    "def calc_density_with_bins(heatmap_benign,\n",
    "                            bbox,\n",
    "                            bins_nothing,\n",
    "                            bins_benign                            \n",
    "                        ):\n",
    "    \n",
    "    \n",
    "    h, w = heatmap_benign.shape\n",
    "\n",
    "    #this is used for rescaling the coordinates of boxes\n",
    "    scale_factor = numpy.array([w, h, w, h], dtype=float)\n",
    "    \n",
    "    \n",
    "    x_min, y_min, x_max, y_max = (bbox * scale_factor).astype(int)\n",
    "    \n",
    "    #returns counts of elements in each bin\n",
    "    counts_not = numpy.unique(numpy.digitize(heatmap_benign[y_min:y_max, x_min:x_max], bins=bins_nothing), return_index=True, return_counts=True)[-1]\n",
    "    counts_ben = numpy.unique(numpy.digitize(heatmap_benign[y_min:y_max, x_min:x_max], bins=bins_benign), return_index=True, return_counts=True)[-1]\n",
    "    \n",
    "    \n",
    "    #dividing the highest count by the sum (total)                         \n",
    "    density_not = counts_not.max() / counts_not.sum()\n",
    "    density_ben = counts_ben.max() / counts_ben.sum()\n",
    "\n",
    "    \n",
    "    return density_not, density_ben"
   ]
  },
  {
   "cell_type": "code",
   "execution_count": 6,
   "id": "4fce3860",
   "metadata": {},
   "outputs": [],
   "source": [
    "def load_and_process_with_bins_multiple_only_benign_gen_bins():\n",
    "    \n",
    "    path = \"/home/server/other_projects/breast_cancer/DATA_PATH/temp_files\"\n",
    "\n",
    "    files = os.listdir(path)\n",
    "    files.sort(key = lambda x: int(re.match(r\"image(\\d+).+\\.npy\", x)[1]))\n",
    "\n",
    "\n",
    "    #How many bin combinations\n",
    "    bins_count = 30\n",
    "    #How many bins\n",
    "    len_choices = [5, 6, 7, 8]\n",
    "    \n",
    "    not_bins = []    \n",
    "    ben_bins = []\n",
    "    \n",
    "    #Generating random bins\n",
    "    for it in range(bins_count):\n",
    "\n",
    "        N = choice(len_choices)\n",
    "        not_bins.append(generate_bins(N))\n",
    "        \n",
    "        N = choice(len_choices)\n",
    "        ben_bins.append(generate_bins(N))\n",
    "        \n",
    "\n",
    "    ###\n",
    "    #ben_bins = [[0.0, 0.10344828, 0.17241379, 0.24137931, 0.75862069, 1.]]\n",
    "    \n",
    "    N = len(files) // 3\n",
    "    main_matrix = numpy.zeros((len(not_bins), len(ben_bins), 2, 2))\n",
    "    \n",
    "    \n",
    "    for idx in tqdm(range(N)):\n",
    "        \n",
    "        temp = files[3* idx:3*idx + 3]\n",
    "        temp.sort(key = lambda x: 0 if \"bbox\" in x else 1 if \"ben\" in x else 2)\n",
    "        \n",
    "        with open(os.path.join(path, temp[0]), 'rb') as f:\n",
    "\n",
    "            bbox = numpy.load(f)\n",
    "\n",
    "        with open(os.path.join(path, temp[1]), 'rb') as f:\n",
    "\n",
    "            heatmap_benign = numpy.load(f)\n",
    "\n",
    "        #the re.match used to get the annotations from the file names\n",
    "        annot = re.match(\".+_(.+).npy\", temp[1])[1]\n",
    "           \n",
    "        for not_bin_index, not_bin in enumerate(not_bins):\n",
    "            \n",
    "            for ben_bin_index, ben_bin in enumerate(ben_bins):\n",
    "         \n",
    "                dens_not, dens_ben = calc_density_with_bins(heatmap_benign, bbox, not_bin, ben_bin)\n",
    "\n",
    "\n",
    "                if annot in [\"2\", \"3\"]:\n",
    "                    true_label = 1\n",
    "                else:\n",
    "                    true_label = 0\n",
    "\n",
    "\n",
    "                is_benign = dens_ben > dens_not\n",
    "\n",
    "                main_matrix[not_bin_index, ben_bin_index, true_label, int(is_benign)] += 1        \n",
    "\n",
    "    specificity = numpy.zeros((len(not_bins), len(ben_bins), 2))    \n",
    "    sensitivity = numpy.zeros((len(not_bins), len(ben_bins), 2))\n",
    "    \n",
    "    \n",
    "    ##specificity\n",
    "    \n",
    "    specificity[:, :, 0] = (main_matrix[:, :, 1, 1])/\\\n",
    "    (main_matrix[:, :, 1, 0] + main_matrix[:, :, 1, 1])\n",
    "    \n",
    "    specificity[:, :, 1] = (main_matrix[:, :, 0, 0])/\\\n",
    "    (main_matrix[:, :, 0, 1] + main_matrix[:, :, 0, 0])\n",
    "\n",
    "    \n",
    "    ##sensitivity\n",
    "    \n",
    "    sensitivity[:, :, 0] = main_matrix[:, :, 0, 0]/(main_matrix[:, :, 0].sum(axis=-1))\n",
    "    sensitivity[:, :, 1] = main_matrix[:, :, 1, 1]/(main_matrix[:, :, 1].sum(axis=-1))\n",
    "    \n",
    "    #mean accuracy\n",
    "    \n",
    "    corrects = main_matrix[:, :, 0, 0] + main_matrix[:, :, 1, 1]\n",
    "    mean_accuracy = corrects / main_matrix.sum(axis=(-1, -2))\n",
    "    \n",
    "    return main_matrix, specificity, sensitivity, mean_accuracy, not_bins, ben_bins"
   ]
  },
  {
   "cell_type": "code",
   "execution_count": 7,
   "id": "ba471879",
   "metadata": {},
   "outputs": [
    {
     "name": "stderr",
     "output_type": "stream",
     "text": [
      "100%|████████████████████████████████████████████████████████████████████████████████████████████████████████████████████████████████████████████████████████████████████| 316/316 [00:22<00:00, 14.11it/s]\n"
     ]
    }
   ],
   "source": [
    "main_matrix, specificity, sensitivity, mean_accuracy, not_bins, ben_bins = load_and_process_with_bins_multiple_only_benign_gen_bins()"
   ]
  },
  {
   "cell_type": "code",
   "execution_count": 20,
   "id": "b764a9a1",
   "metadata": {},
   "outputs": [],
   "source": [
    "best_index = numpy.argmax(mean_accuracy)"
   ]
  },
  {
   "cell_type": "code",
   "execution_count": 21,
   "id": "ce8effba",
   "metadata": {},
   "outputs": [],
   "source": [
    "best_index = numpy.unravel_index(best_index, (30, 30))"
   ]
  },
  {
   "cell_type": "code",
   "execution_count": 22,
   "id": "181f7701",
   "metadata": {},
   "outputs": [
    {
     "data": {
      "text/plain": [
       "array([[213.,   0.],\n",
       "       [ 96.,   7.]])"
      ]
     },
     "execution_count": 22,
     "metadata": {},
     "output_type": "execute_result"
    }
   ],
   "source": [
    "main_matrix[best_index[0], best_index[1]]"
   ]
  },
  {
   "cell_type": "code",
   "execution_count": 23,
   "id": "e7b8ced1",
   "metadata": {},
   "outputs": [],
   "source": [
    "indices = numpy.where((sensitivity[..., 1] > 0.67) & (sensitivity[..., 0] > 0.51))"
   ]
  },
  {
   "cell_type": "code",
   "execution_count": 24,
   "id": "c0a5b5b1",
   "metadata": {},
   "outputs": [
    {
     "data": {
      "text/plain": [
       "(array([ 4,  5,  5,  5, 13, 13, 13, 22, 22, 22, 22, 26]),\n",
       " array([ 3,  3, 16, 25,  0,  1,  5,  0,  1,  5, 21,  3]))"
      ]
     },
     "execution_count": 24,
     "metadata": {},
     "output_type": "execute_result"
    }
   ],
   "source": [
    "indices"
   ]
  },
  {
   "cell_type": "code",
   "execution_count": 25,
   "id": "79e09ef1",
   "metadata": {},
   "outputs": [
    {
     "data": {
      "text/plain": [
       "array([[126.,  87.],\n",
       "       [ 30.,  73.]])"
      ]
     },
     "execution_count": 25,
     "metadata": {},
     "output_type": "execute_result"
    }
   ],
   "source": [
    "main_matrix[indices[0][-1], indices[1][-1]]"
   ]
  },
  {
   "cell_type": "code",
   "execution_count": null,
   "id": "510fe7f2",
   "metadata": {},
   "outputs": [],
   "source": []
  }
 ],
 "metadata": {
  "kernelspec": {
   "display_name": "Python 3 (ipykernel)",
   "language": "python",
   "name": "python3"
  },
  "language_info": {
   "codemirror_mode": {
    "name": "ipython",
    "version": 3
   },
   "file_extension": ".py",
   "mimetype": "text/x-python",
   "name": "python",
   "nbconvert_exporter": "python",
   "pygments_lexer": "ipython3",
   "version": "3.10.4"
  }
 },
 "nbformat": 4,
 "nbformat_minor": 5
}
