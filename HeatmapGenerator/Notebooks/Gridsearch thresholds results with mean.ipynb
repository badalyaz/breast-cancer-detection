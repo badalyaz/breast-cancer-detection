{
 "cells": [
  {
   "cell_type": "code",
   "execution_count": 3,
   "id": "2784af6a",
   "metadata": {},
   "outputs": [],
   "source": [
    "import sys\n",
    "sys.path.append(\"../\")"
   ]
  },
  {
   "cell_type": "code",
   "execution_count": 4,
   "id": "6f63e4f3",
   "metadata": {},
   "outputs": [],
   "source": [
    "import numpy\n",
    "import matplotlib.pyplot as plt\n",
    "from matplotlib.patches import Rectangle\n",
    "import matplotlib.patches as patches\n",
    "from tqdm import tqdm\n",
    "import os,re"
   ]
  },
  {
   "cell_type": "code",
   "execution_count": 5,
   "id": "462beca5",
   "metadata": {},
   "outputs": [],
   "source": [
    "def calc_density_with_mean(heatmap_benign,\n",
    "                            heatmap_malignant,\n",
    "                            bbox,\n",
    "                        ):\n",
    "    \n",
    "    \n",
    "    h, w = heatmap_benign.shape\n",
    "\n",
    "    #this is used for rescaling the coordinates of boxes\n",
    "    scale_factor = numpy.array([w, h, w, h], dtype=float)\n",
    "    \n",
    "    \n",
    "    x_min, y_min, x_max, y_max = (bbox * scale_factor).astype(int)    \n",
    "    \n",
    "    dens_ben = heatmap_benign[y_min:y_max, x_min:x_max].mean()\n",
    "    dens_mal = heatmap_malignant[y_min:y_max, x_min:x_max].mean()\n",
    "\n",
    "\n",
    "    return dens_ben, dens_mal"
   ]
  },
  {
   "cell_type": "code",
   "execution_count": 6,
   "id": "9a0643a8",
   "metadata": {},
   "outputs": [],
   "source": [
    "def load_and_process_with_mean_multiple_only_benign(threshold_benign):\n",
    "  \n",
    "    if not isinstance(threshold_benign, numpy.ndarray):\n",
    "        raise TypeError(f\"expected threshold_benign to be numpy.ndarra, got {type(threshold_benign)}\")\n",
    "\n",
    "    if not (threshold_benign.ndim == 1):\n",
    "        raise ValueError(f\"expected threshold_benign to have shape [N], but got {threshold_benign.shape}\")\n",
    "\n",
    "    if not numpy.all((0 < threshold_benign) & (threshold_benign < 1)):\n",
    "        raise ValueError(f\"expected threshold_benign values to be in range 0 to 1, but got {threshold_benign}\")\n",
    "\n",
    "    \n",
    "    path = \"../Sample_data/generated_heatmaps\"\n",
    "\n",
    "    files = os.listdir(path)\n",
    "    files.sort(key = lambda x: int(re.match(r\"image(\\d+).+\\.npy\", x)[1]))\n",
    "\n",
    "    \n",
    "    N = len(files) // 3\n",
    "    M = threshold_benign.shape[0]\n",
    "    main_matrix = numpy.zeros((M, 2, 2))\n",
    "    \n",
    "    for idx in tqdm(range(N)):\n",
    "        \n",
    "        temp = files[3* idx:3*idx + 3]\n",
    "        temp.sort(key = lambda x: 0 if \"bbox\" in x else 1 if \"ben\" in x else 2)\n",
    "        \n",
    "        with open(os.path.join(path, temp[0]), 'rb') as f:\n",
    "\n",
    "            bbox = numpy.load(f)\n",
    "\n",
    "        with open(os.path.join(path, temp[1]), 'rb') as f:\n",
    "\n",
    "            heatmap_benign = numpy.load(f)\n",
    "\n",
    "        #the re.match used to get the annotations from the file names\n",
    "        annot = re.match(\".+_(.+).npy\", temp[1])[1]\n",
    "        \n",
    "\n",
    "        dens_ben, dens_mal = calc_density_with_mean(heatmap_benign, heatmap_benign, bbox)\n",
    "\n",
    "\n",
    "        if annot in [\"2\", \"3\"]:\n",
    "            true_label = 1\n",
    "        else:\n",
    "            true_label = 0\n",
    "\n",
    "\n",
    "        is_benign = dens_ben > threshold_benign\n",
    "\n",
    "        main_matrix[is_benign, true_label, 1] += 1        \n",
    "        main_matrix[~is_benign, true_label, 0] += 1\n",
    "\n",
    "    specificity = numpy.zeros((M, 2))    \n",
    "    sensitivity = numpy.zeros((M, 2))\n",
    "    \n",
    "    \n",
    "   ##specificity\n",
    "    \n",
    "    specificity[:, 0] = (main_matrix[:, 1, 1])/\\\n",
    "    (main_matrix[:, 1, 0] + main_matrix[:, 1, 1])\n",
    "    \n",
    "    specificity[:, 1] = (main_matrix[:, 0, 0])/\\\n",
    "    (main_matrix[:, 0, 1] + main_matrix[:, 0, 0])\n",
    "\n",
    "    \n",
    "    ##sensitivity\n",
    "    \n",
    "    sensitivity[:, 0] = main_matrix[:, 0, 0]/(main_matrix[:, 0].sum(axis=-1))\n",
    "    sensitivity[:, 1] = main_matrix[:, 1, 1]/(main_matrix[: ,1].sum(axis=-1))\n",
    "    \n",
    "    #mean accuracy\n",
    "    \n",
    "    corrects = main_matrix[:, 0, 0] + main_matrix[:, 1, 1]\n",
    "    mean_accuracy = corrects / main_matrix.sum(axis=(-1, -2))\n",
    "    \n",
    "    return main_matrix, specificity, sensitivity, mean_accuracy"
   ]
  },
  {
   "cell_type": "markdown",
   "id": "85fcedf0",
   "metadata": {},
   "source": [
    "# Gridsearch over the threshold values"
   ]
  },
  {
   "cell_type": "code",
   "execution_count": 14,
   "id": "fa0e4d72",
   "metadata": {},
   "outputs": [
    {
     "name": "stderr",
     "output_type": "stream",
     "text": [
      "100%|██████████████████████████████████████████████████████████████████████████████████████████████████████████████████████████████████████████████████████████████████| 316/316 [00:00<00:00, 1656.54it/s]\n"
     ]
    }
   ],
   "source": [
    "t_b = numpy.linspace(0.1, 0.99999, 1000)\n",
    "\n",
    "main_matrix, specificity, sensitivity, mean_accuracy = \\\n",
    "load_and_process_with_mean_multiple_only_benign(t_b)"
   ]
  },
  {
   "cell_type": "markdown",
   "id": "00e9146c",
   "metadata": {},
   "source": [
    "# Best mean accuracy value"
   ]
  },
  {
   "cell_type": "code",
   "execution_count": 16,
   "id": "6a4f19bc",
   "metadata": {},
   "outputs": [
    {
     "data": {
      "text/plain": [
       "0.7120253164556962"
      ]
     },
     "execution_count": 16,
     "metadata": {},
     "output_type": "execute_result"
    }
   ],
   "source": [
    "best_index = numpy.argmax(mean_accuracy)\n",
    "mean_accuracy[best_index]"
   ]
  },
  {
   "cell_type": "markdown",
   "id": "615ea519",
   "metadata": {},
   "source": [
    "# Threshold corresponding the best mean accuracy index"
   ]
  },
  {
   "cell_type": "code",
   "execution_count": 17,
   "id": "651e5f24",
   "metadata": {},
   "outputs": [
    {
     "data": {
      "text/plain": [
       "0.33963697697697703"
      ]
     },
     "execution_count": 17,
     "metadata": {},
     "output_type": "execute_result"
    }
   ],
   "source": [
    "t_b[best_index]"
   ]
  },
  {
   "cell_type": "markdown",
   "id": "eecad458",
   "metadata": {},
   "source": [
    "# Sensitivity corresponding the best mean accuracy index"
   ]
  },
  {
   "cell_type": "code",
   "execution_count": 20,
   "id": "4abfe7a9",
   "metadata": {},
   "outputs": [
    {
     "data": {
      "text/plain": [
       "array([0.86384977, 0.39805825])"
      ]
     },
     "execution_count": 20,
     "metadata": {},
     "output_type": "execute_result"
    }
   ],
   "source": [
    "sensitivity[best_index]"
   ]
  }
 ],
 "metadata": {
  "kernelspec": {
   "display_name": "Python 3 (ipykernel)",
   "language": "python",
   "name": "python3"
  },
  "language_info": {
   "codemirror_mode": {
    "name": "ipython",
    "version": 3
   },
   "file_extension": ".py",
   "mimetype": "text/x-python",
   "name": "python",
   "nbconvert_exporter": "python",
   "pygments_lexer": "ipython3",
   "version": "3.10.4"
  }
 },
 "nbformat": 4,
 "nbformat_minor": 5
}
