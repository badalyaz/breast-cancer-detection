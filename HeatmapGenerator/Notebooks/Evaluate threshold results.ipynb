{
 "cells": [
  {
   "cell_type": "code",
   "execution_count": 1,
   "id": "05ca2999",
   "metadata": {},
   "outputs": [],
   "source": [
    "import sys\n",
    "sys.path.append(\"../\")"
   ]
  },
  {
   "cell_type": "code",
   "execution_count": 2,
   "id": "46dcba64",
   "metadata": {},
   "outputs": [],
   "source": [
    "import numpy\n",
    "import pandas\n",
    "from threshold_checkings import load_and_process"
   ]
  },
  {
   "cell_type": "markdown",
   "id": "9f462a6c",
   "metadata": {},
   "source": [
    "## Thresholds for achieving the below results"
   ]
  },
  {
   "cell_type": "code",
   "execution_count": 3,
   "id": "ea929d82",
   "metadata": {},
   "outputs": [],
   "source": [
    "threshold_inner_benign = 0.4\n",
    "threshold_inner_malignant = 0.7\n",
    "\n",
    "threshold_outer_benign = 0.5\n",
    "threshold_outer_malignant = 0.5\n"
   ]
  },
  {
   "cell_type": "code",
   "execution_count": 4,
   "id": "371059f9",
   "metadata": {},
   "outputs": [
    {
     "name": "stderr",
     "output_type": "stream",
     "text": [
      "100%|███████████████████████████████████████████████████████████████████████████████████████████████████████████████████████████████████████████████████████████████████| 316/316 [00:00<00:00, 655.25it/s]\n"
     ]
    }
   ],
   "source": [
    "main_matrix, specificity, sensitivity, mean_accuracy = \\\n",
    "load_and_process(threshold_inner_benign,\n",
    "                    threshold_inner_malignant,\n",
    "                    threshold_outer_benign,\n",
    "                    threshold_outer_malignant,\n",
    "                    path=\"../Sample_data/generated_heatmaps\")"
   ]
  },
  {
   "cell_type": "markdown",
   "id": "1d609a96",
   "metadata": {},
   "source": [
    "## Visualizations of results"
   ]
  },
  {
   "cell_type": "code",
   "execution_count": 13,
   "id": "be5436d8",
   "metadata": {},
   "outputs": [],
   "source": [
    "main_matrix_df = pandas.DataFrame(data = numpy.concatenate([main_matrix, specificity[..., None], sensitivity[..., None]], axis=1),\\\n",
    "columns = [\"Ok\", \"Benign\", \"Malignant\", \"Specificity\", \"Sensitivity\"])"
   ]
  },
  {
   "cell_type": "code",
   "execution_count": 14,
   "id": "c6de17ba",
   "metadata": {},
   "outputs": [],
   "source": [
    "index = pandas.MultiIndex.from_arrays([[\"Ok\", \"Benign\", \"Malignant\"]], names=[\"Predicted\"])"
   ]
  },
  {
   "cell_type": "code",
   "execution_count": 15,
   "id": "bb41fac9",
   "metadata": {},
   "outputs": [],
   "source": [
    "main_matrix_df.columns = pandas.MultiIndex.from_product([[\"True\"], main_matrix_df.columns])"
   ]
  },
  {
   "cell_type": "markdown",
   "id": "92451b20",
   "metadata": {},
   "source": [
    "# Results tableau"
   ]
  },
  {
   "cell_type": "code",
   "execution_count": 16,
   "id": "3d8443d9",
   "metadata": {},
   "outputs": [
    {
     "data": {
      "text/html": [
       "<div>\n",
       "<style scoped>\n",
       "    .dataframe tbody tr th:only-of-type {\n",
       "        vertical-align: middle;\n",
       "    }\n",
       "\n",
       "    .dataframe tbody tr th {\n",
       "        vertical-align: top;\n",
       "    }\n",
       "\n",
       "    .dataframe thead tr th {\n",
       "        text-align: left;\n",
       "    }\n",
       "\n",
       "    .dataframe thead tr:last-of-type th {\n",
       "        text-align: right;\n",
       "    }\n",
       "</style>\n",
       "<table border=\"1\" class=\"dataframe\">\n",
       "  <thead>\n",
       "    <tr>\n",
       "      <th></th>\n",
       "      <th colspan=\"5\" halign=\"left\">True</th>\n",
       "    </tr>\n",
       "    <tr>\n",
       "      <th></th>\n",
       "      <th>Ok</th>\n",
       "      <th>Benign</th>\n",
       "      <th>Malignant</th>\n",
       "      <th>Specificity</th>\n",
       "      <th>Sensitivity</th>\n",
       "    </tr>\n",
       "    <tr>\n",
       "      <th>Predicted</th>\n",
       "      <th></th>\n",
       "      <th></th>\n",
       "      <th></th>\n",
       "      <th></th>\n",
       "      <th></th>\n",
       "    </tr>\n",
       "  </thead>\n",
       "  <tbody>\n",
       "    <tr>\n",
       "      <th>Ok</th>\n",
       "      <td>26.0</td>\n",
       "      <td>52.0</td>\n",
       "      <td>62.0</td>\n",
       "      <td>0.970149</td>\n",
       "      <td>0.185714</td>\n",
       "    </tr>\n",
       "    <tr>\n",
       "      <th>Benign</th>\n",
       "      <td>0.0</td>\n",
       "      <td>21.0</td>\n",
       "      <td>12.0</td>\n",
       "      <td>0.622120</td>\n",
       "      <td>0.636364</td>\n",
       "    </tr>\n",
       "    <tr>\n",
       "      <th>Malignant</th>\n",
       "      <td>4.0</td>\n",
       "      <td>30.0</td>\n",
       "      <td>109.0</td>\n",
       "      <td>0.388430</td>\n",
       "      <td>0.762238</td>\n",
       "    </tr>\n",
       "  </tbody>\n",
       "</table>\n",
       "</div>"
      ],
      "text/plain": [
       "           True                                         \n",
       "             Ok Benign Malignant Specificity Sensitivity\n",
       "Predicted                                               \n",
       "Ok         26.0   52.0      62.0    0.970149    0.185714\n",
       "Benign      0.0   21.0      12.0    0.622120    0.636364\n",
       "Malignant   4.0   30.0     109.0    0.388430    0.762238"
      ]
     },
     "execution_count": 16,
     "metadata": {},
     "output_type": "execute_result"
    }
   ],
   "source": [
    "main_matrix_df.set_index(index)"
   ]
  },
  {
   "cell_type": "markdown",
   "id": "b0edaae8",
   "metadata": {},
   "source": [
    "# Mean accuracy"
   ]
  },
  {
   "cell_type": "code",
   "execution_count": 17,
   "id": "a92cdbad",
   "metadata": {},
   "outputs": [
    {
     "data": {
      "text/plain": [
       "0.4936708860759494"
      ]
     },
     "execution_count": 17,
     "metadata": {},
     "output_type": "execute_result"
    }
   ],
   "source": [
    "mean_accuracy"
   ]
  }
 ],
 "metadata": {
  "kernelspec": {
   "display_name": "Python 3 (ipykernel)",
   "language": "python",
   "name": "python3"
  },
  "language_info": {
   "codemirror_mode": {
    "name": "ipython",
    "version": 3
   },
   "file_extension": ".py",
   "mimetype": "text/x-python",
   "name": "python",
   "nbconvert_exporter": "python",
   "pygments_lexer": "ipython3",
   "version": "3.10.4"
  }
 },
 "nbformat": 4,
 "nbformat_minor": 5
}
